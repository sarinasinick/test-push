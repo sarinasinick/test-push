{
  "metadata": {
    "kernelspec": {
      "display_name": "Python 2",
      "name": "python2",
      "language": "python"
    },
    "language_info": {
      "mimetype": "text/x-python",
      "nbconvert_exporter": "python",
      "version": "2.7.18",
      "name": "python",
      "pygments_lexer": "ipython2",
      "file_extension": ".py",
      "codemirror_mode": {
        "version": 2,
        "name": "ipython"
      }
    },
    "creator": "admin",
    "createdOn": 1644274392947,
    "hide_input": false,
    "customFields": {},
    "tags": [],
    "modifiedBy": "admin"
  },
  "nbformat": 4,
  "nbformat_minor": 1,
  "cells": [
    {
      "execution_count": 0,
      "cell_type": "code",
      "metadata": {},
      "source": [
        "%pylab inline"
      ],
      "outputs": []
    },
    {
      "execution_count": 1,
      "cell_type": "code",
      "metadata": {},
      "source": [
        "import dataiku\nimport dataiku.spark as dkuspark\nimport pyspark\n"
      ],
      "outputs": []
    },
    {
      "execution_count": 0,
      "cell_type": "code",
      "metadata": {},
      "source": [
        "# Load PySpark\nsc \u003d pyspark.SparkContext.getOrCreate()\nsqlContext \u003d SQLContext(sc)"
      ],
      "outputs": []
    },
    {
      "execution_count": 0,
      "cell_type": "code",
      "metadata": {},
      "source": [
        "# Example: Read the descriptor of a Dataiku dataset\nmydataset \u003d dataiku.Dataset(\"mydataset\")\n# And read it as a Spark dataframe\ndf \u003d dkuspark.get_dataframe(sqlContext, mydataset)"
      ],
      "outputs": []
    },
    {
      "execution_count": 0,
      "cell_type": "code",
      "metadata": {},
      "source": [
        "# Example: Get the count of records in the dataframe\ndf.count()"
      ],
      "outputs": []
    },
    {
      "execution_count": 21,
      "cell_type": "code",
      "metadata": {},
      "source": [
        "import pprint\nclient \u003d dataiku.api_client()\nprojects \u003d client.list_project_keys()\n\nfor p in projects:\n    project \u003d client.get_project(p)\n    datasets \u003d project.list_datasets()\n    print(p)\n    for d in datasets:\n\n        dataset \u003d project.get_dataset(d[\"name\"])\n        # if the dataset is currently synchronized\n        settings \u003d dataset.get_settings()\n        raw_settings \u003d settings.get_raw()\n        if \u0027metastoreSynchronizationEnabled\u0027 in raw_settings[\u0027params\u0027]:\n            print(\u0027synchronizng dataset \u0027, d[\u0027name\u0027])\n            dataset.synchronize_hive_metastore()\n"
      ],
      "outputs": [
        {
          "output_type": "stream",
          "name": "stdout",
          "text": "DKU_TSHIRTS\n(\u0027synchronizng dataset \u0027, u\u0027adult_1_copy\u0027)\n(\u0027synchronizng dataset \u0027, u\u0027adult_1_copy_prepared\u0027)\n(\u0027synchronizng dataset \u0027, u\u0027adult_1_prepared\u0027)\n(\u0027synchronizng dataset \u0027, u\u0027adult_1_prepared_a\u0027)\n(\u0027synchronizng dataset \u0027, u\u0027adult_1_prepared_a_prepared\u0027)\n(\u0027synchronizng dataset \u0027, u\u0027adult__1__prepared\u0027)\n(\u0027synchronizng dataset \u0027, u\u0027adult_prepared\u0027)\n(\u0027synchronizng dataset \u0027, u\u0027crm_and_web_history_enriched_stacked\u0027)\n(\u0027synchronizng dataset \u0027, u\u0027myython\u0027)\n(\u0027synchronizng dataset \u0027, u\u0027sample_data_prepared\u0027)\n(\u0027synchronizng dataset \u0027, u\u0027test\u0027)\n(\u0027synchronizng dataset \u0027, u\u0027test_for_spaces_1_prepared\u0027)\n(\u0027synchronizng dataset \u0027, u\u0027test_for_spaces_prepared\u0027)\n(\u0027synchronizng dataset \u0027, u\u0027test_pyspark\u0027)\n(\u0027synchronizng dataset \u0027, u\u0027testorc\u0027)\n"
        }
      ]
    },
    {
      "execution_count": 14,
      "cell_type": "code",
      "metadata": {},
      "source": [
        "dataset.get_settings().get_raw()"
      ],
      "outputs": [
        {
          "output_type": "execute_result",
          "metadata": {},
          "data": {
            "text/plain": "{u\u0027checklists\u0027: {u\u0027checklists\u0027: []},\n u\u0027checks\u0027: [],\n u\u0027customFields\u0027: {},\n u\u0027customMeta\u0027: {u\u0027kv\u0027: {}},\n u\u0027description\u0027: u\u0027### Contents\\n\\n- The new customers navigational enriched data.\u0027,\n u\u0027dkuProperties\u0027: [],\n u\u0027flowOptions\u0027: {u\u0027crossProjectBuildBehavior\u0027: u\u0027DEFAULT\u0027,\n  u\u0027rebuildBehavior\u0027: u\u0027NORMAL\u0027,\n  u\u0027virtualizable\u0027: False},\n u\u0027formatParams\u0027: {u\u0027arrayMapFormat\u0027: u\u0027json\u0027,\n  u\u0027charset\u0027: u\u0027utf8\u0027,\n  u\u0027compress\u0027: u\u0027gz\u0027,\n  u\u0027dateSerializationFormat\u0027: u\u0027ISO\u0027,\n  u\u0027escapeChar\u0027: u\u0027\\\\\u0027,\n  u\u0027fileReadFailureBehavior\u0027: u\u0027FAIL\u0027,\n  u\u0027hiveSeparators\u0027: [u\u0027\\x02\u0027,\n   u\u0027\\x03\u0027,\n   u\u0027\\x04\u0027,\n   u\u0027\\x05\u0027,\n   u\u0027\\x06\u0027,\n   u\u0027\\x07\u0027,\n   u\u0027\\x08\u0027],\n  u\u0027normalizeBooleans\u0027: False,\n  u\u0027normalizeDoubles\u0027: False,\n  u\u0027parseHeaderRow\u0027: False,\n  u\u0027probableNumberOfRecords\u0027: 0,\n  u\u0027quoteChar\u0027: u\u0027\"\u0027,\n  u\u0027readAdditionalColumnsBehavior\u0027: u\u0027INSERT_IN_DATA_WARNING\u0027,\n  u\u0027readDataTypeMismatchBehavior\u0027: u\u0027DISCARD_WARNING\u0027,\n  u\u0027readMissingColumnsBehavior\u0027: u\u0027DISCARD_SILENT\u0027,\n  u\u0027separator\u0027: u\u0027\\t\u0027,\n  u\u0027skipRowsAfterHeader\u0027: 0,\n  u\u0027skipRowsBeforeHeader\u0027: 0,\n  u\u0027style\u0027: u\u0027unix\u0027,\n  u\u0027writeDataTypeMismatchBehavior\u0027: u\u0027DISCARD_WARNING\u0027},\n u\u0027formatType\u0027: u\u0027csv\u0027,\n u\u0027managed\u0027: True,\n u\u0027metrics\u0027: {u\u0027displayedState\u0027: {u\u0027columns\u0027: [], u\u0027metrics\u0027: []},\n  u\u0027engineConfig\u0027: {u\u0027basic\u0027: {},\n   u\u0027dss\u0027: {u\u0027active\u0027: True,\n    u\u0027selection\u0027: {u\u0027filter\u0027: {u\u0027distinct\u0027: False, u\u0027enabled\u0027: False},\n     u\u0027latestPartitionsN\u0027: 1,\n     u\u0027maxReadUncompressedBytes\u0027: -1,\n     u\u0027maxRecords\u0027: -1,\n     u\u0027ordering\u0027: {u\u0027enabled\u0027: False, u\u0027rules\u0027: []},\n     u\u0027partitionSelectionMethod\u0027: u\u0027ALL\u0027,\n     u\u0027samplingMethod\u0027: u\u0027FULL\u0027,\n     u\u0027targetRatio\u0027: 0.02,\n     u\u0027useMemTable\u0027: False,\n     u\u0027withinFirstN\u0027: -1}},\n   u\u0027hive\u0027: {u\u0027active\u0027: True, u\u0027extraConf\u0027: []},\n   u\u0027impala\u0027: {u\u0027active\u0027: True},\n   u\u0027padRunsWithMetrics\u0027: False,\n   u\u0027python\u0027: {},\n   u\u0027spark\u0027: {u\u0027active\u0027: True, u\u0027extraConf\u0027: []},\n   u\u0027sql\u0027: {u\u0027active\u0027: True}},\n  u\u0027probes\u0027: []},\n u\u0027metricsChecks\u0027: {u\u0027checks\u0027: [],\n  u\u0027displayedState\u0027: {u\u0027checks\u0027: []},\n  u\u0027runOnBuild\u0027: False},\n u\u0027name\u0027: u\u0027web_new_customers_enriched\u0027,\n u\u0027params\u0027: {u\u0027connection\u0027: u\u0027filesystem_managed\u0027,\n  u\u0027filesSelectionRules\u0027: {u\u0027excludeRules\u0027: [],\n   u\u0027explicitFiles\u0027: [],\n   u\u0027includeRules\u0027: [],\n   u\u0027mode\u0027: u\u0027ALL\u0027},\n  u\u0027notReadyIfEmpty\u0027: False,\n  u\u0027path\u0027: u\u0027/DKU_TSHIRTS.web_new_customers_enriched\u0027},\n u\u0027partitioning\u0027: {u\u0027considerMissingRequestedPartitionsAsEmpty\u0027: False,\n  u\u0027dimensions\u0027: [],\n  u\u0027ignoreNonMatchingFile\u0027: False},\n u\u0027projectKey\u0027: u\u0027DKU_TSHIRTS\u0027,\n u\u0027readWriteOptions\u0027: {u\u0027defaultReadOrdering\u0027: {u\u0027enabled\u0027: False,\n   u\u0027rules\u0027: []},\n  u\u0027forceSingleOutputFile\u0027: False,\n  u\u0027preserveOrder\u0027: False,\n  u\u0027writeBuckets\u0027: 1},\n u\u0027schema\u0027: {u\u0027columns\u0027: [{u\u0027name\u0027: u\u0027customer_id\u0027, u\u0027type\u0027: u\u0027string\u0027},\n   {u\u0027name\u0027: u\u0027ip\u0027, u\u0027type\u0027: u\u0027string\u0027},\n   {u\u0027name\u0027: u\u0027ip_country\u0027, u\u0027type\u0027: u\u0027string\u0027},\n   {u\u0027name\u0027: u\u0027ip_geopoint\u0027, u\u0027type\u0027: u\u0027string\u0027},\n   {u\u0027name\u0027: u\u0027pages_visited\u0027, u\u0027type\u0027: u\u0027double\u0027},\n   {u\u0027name\u0027: u\u0027campain\u0027, u\u0027type\u0027: u\u0027boolean\u0027}],\n  u\u0027userModified\u0027: False},\n u\u0027smartName\u0027: u\u0027web_new_customers_enriched\u0027,\n u\u0027tags\u0027: [],\n u\u0027type\u0027: u\u0027Filesystem\u0027,\n u\u0027versionTag\u0027: {u\u0027lastModifiedBy\u0027: {u\u0027login\u0027: u\u0027admin\u0027},\n  u\u0027lastModifiedOn\u0027: 1461148473316,\n  u\u0027versionNumber\u0027: 3}}"
          },
          "execution_count": 14
        }
      ]
    },
    {
      "execution_count": 18,
      "cell_type": "code",
      "metadata": {},
      "source": [
        "raw_settings \u003dproject.get_dataset(\u0027adult_1_prepared_a\u0027).get_settings().get_raw()"
      ],
      "outputs": []
    },
    {
      "execution_count": 20,
      "cell_type": "code",
      "metadata": {},
      "source": [
        "if \u0027metastoreSynchronizationEnabled\u0027 in raw_settings[\u0027params\u0027]:\n    print(\u0027hi\u0027)"
      ],
      "outputs": [
        {
          "output_type": "stream",
          "name": "stdout",
          "text": "hi\n"
        }
      ]
    },
    {
      "execution_count": 0,
      "cell_type": "code",
      "metadata": {},
      "source": [
        ""
      ],
      "outputs": []
    }
  ]
}